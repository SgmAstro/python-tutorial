{
 "cells": [
  {
   "cell_type": "markdown",
   "metadata": {},
   "source": [
    "The following is a compliation of interesting facts about how Python works, with the bulk of this learnt from Stack Overflow. I hope to incorporate this into the broader Python tutorial in due time."
   ]
  },
  {
   "cell_type": "code",
   "execution_count": 32,
   "metadata": {},
   "outputs": [
    {
     "name": "stdout",
     "output_type": "stream",
     "text": [
      "False\n",
      "True\n",
      "Empty\n"
     ]
    },
    {
     "data": {
      "text/plain": [
       "'\\nNote, doing [] == False will evaluate to False! To\\nexplicity check the truthiness of a value, one should\\nuse bool(). bool([]) == False evaluates to True, as\\nseen above.\\n\\n'"
      ]
     },
     "execution_count": 32,
     "metadata": {},
     "output_type": "execute_result"
    }
   ],
   "source": [
    "# how to check if a list is empty\n",
    "\n",
    "'''\n",
    "Let us note something interesting about lists in Python: If\n",
    "a list is empty, then it is False, whereas if a list is not\n",
    "empty, then it is True.\n",
    "\n",
    "'''\n",
    "\n",
    "li_empty = []\n",
    "li_full = ['a', 'b']\n",
    "\n",
    "print(bool(li_empty))\n",
    "print(bool(li_full))\n",
    "\n",
    "\n",
    "if not li_empty: print('Empty')\n",
    "    \n",
    "'''\n",
    "Note, doing [] == False will evaluate to False! To\n",
    "explicity check the truthiness of a value, one should\n",
    "use bool(). bool([]) == False evaluates to True, as\n",
    "seen above.\n",
    "\n",
    "'''"
   ]
  },
  {
   "cell_type": "markdown",
   "metadata": {},
   "source": [
    "Of course, with this you have to be careful. It may appear to an outside observer (or the tired you!) that li_empty is a boolean variable rather than a list. This is why naming convention is important! You could alternatively do something like:"
   ]
  },
  {
   "cell_type": "code",
   "execution_count": 31,
   "metadata": {},
   "outputs": [
    {
     "name": "stdout",
     "output_type": "stream",
     "text": [
      "0\n",
      "Empty\n",
      "Empty again!\n"
     ]
    }
   ],
   "source": [
    "print(len(li_empty))\n",
    "\n",
    "# Or perhaps\n",
    "\n",
    "if len(li_empty) == 0:\n",
    "    print('Empty')\n",
    "    \n",
    "# Or even:\n",
    "\n",
    "if li_empty == []:\n",
    "    print('Empty again!')"
   ]
  },
  {
   "cell_type": "markdown",
   "metadata": {},
   "source": [
    "But Stack Overflow seems to absolutely hate this for being unpythonic. However, the above methods do not work for numpy arrays. This is because numpy will try to cast your array into an array of booleans if you do the first method, and so you will get an error."
   ]
  },
  {
   "cell_type": "code",
   "execution_count": 22,
   "metadata": {},
   "outputs": [
    {
     "ename": "ValueError",
     "evalue": "The truth value of an array with more than one element is ambiguous. Use a.any() or a.all()",
     "output_type": "error",
     "traceback": [
      "\u001b[0;31m---------------------------------------------------------------------------\u001b[0m",
      "\u001b[0;31mValueError\u001b[0m                                Traceback (most recent call last)",
      "\u001b[0;32m<ipython-input-22-880d631448d1>\u001b[0m in \u001b[0;36m<module>\u001b[0;34m()\u001b[0m\n\u001b[1;32m      3\u001b[0m \u001b[0marray\u001b[0m \u001b[0;34m=\u001b[0m \u001b[0mnp\u001b[0m\u001b[0;34m.\u001b[0m\u001b[0marray\u001b[0m\u001b[0;34m(\u001b[0m\u001b[0;34m[\u001b[0m\u001b[0;36m0\u001b[0m\u001b[0;34m,\u001b[0m\u001b[0;36m1\u001b[0m\u001b[0;34m,\u001b[0m\u001b[0;36m2\u001b[0m\u001b[0;34m]\u001b[0m\u001b[0;34m)\u001b[0m\u001b[0;34m\u001b[0m\u001b[0m\n\u001b[1;32m      4\u001b[0m \u001b[0;34m\u001b[0m\u001b[0m\n\u001b[0;32m----> 5\u001b[0;31m \u001b[0;32mif\u001b[0m \u001b[0marray\u001b[0m\u001b[0;34m:\u001b[0m \u001b[0mprint\u001b[0m\u001b[0;34m(\u001b[0m\u001b[0;34m'words'\u001b[0m\u001b[0;34m)\u001b[0m\u001b[0;34m\u001b[0m\u001b[0m\n\u001b[0m",
      "\u001b[0;31mValueError\u001b[0m: The truth value of an array with more than one element is ambiguous. Use a.any() or a.all()"
     ]
    }
   ],
   "source": [
    "import numpy as np\n",
    "\n",
    "array = np.array([0,1,2])\n",
    "\n",
    "if array: print('words')"
   ]
  },
  {
   "cell_type": "markdown",
   "metadata": {},
   "source": [
    "This is even worse for a one-element array that is zero. In this case, the method appears to work, but incorrectly! This is because zero is evaluated as False (rather than True)."
   ]
  },
  {
   "cell_type": "code",
   "execution_count": 25,
   "metadata": {},
   "outputs": [
    {
     "name": "stdout",
     "output_type": "stream",
     "text": [
      "not x\n"
     ]
    }
   ],
   "source": [
    "x = np.array([0,])\n",
    "\n",
    "if x: print(\"x\")\n",
    "if not x: print('not x')"
   ]
  },
  {
   "cell_type": "markdown",
   "metadata": {},
   "source": [
    "len() is also an unreliable method for doing things. Consider the following array with size 0 but len(x) = 1:"
   ]
  },
  {
   "cell_type": "code",
   "execution_count": 26,
   "metadata": {},
   "outputs": [
    {
     "data": {
      "text/plain": [
       "1"
      ]
     },
     "execution_count": 26,
     "metadata": {},
     "output_type": "execute_result"
    }
   ],
   "source": [
    "len( np.zeros((1,0)) )"
   ]
  },
  {
   "cell_type": "markdown",
   "metadata": {},
   "source": [
    "The best method is x.size()."
   ]
  },
  {
   "cell_type": "code",
   "execution_count": 30,
   "metadata": {},
   "outputs": [
    {
     "name": "stdout",
     "output_type": "stream",
     "text": [
      "x\n"
     ]
    }
   ],
   "source": [
    "x = np.array([0,])\n",
    "if x.size: print(\"x\")\n",
    "else: print(\"No x\")"
   ]
  },
  {
   "cell_type": "markdown",
   "metadata": {},
   "source": [
    "Exercise: Test all of the various arrays shown above to prove .size() works with every case."
   ]
  },
  {
   "cell_type": "code",
   "execution_count": null,
   "metadata": {},
   "outputs": [],
   "source": []
  }
 ],
 "metadata": {
  "kernelspec": {
   "display_name": "Python 3",
   "language": "python",
   "name": "python3"
  },
  "language_info": {
   "codemirror_mode": {
    "name": "ipython",
    "version": 3
   },
   "file_extension": ".py",
   "mimetype": "text/x-python",
   "name": "python",
   "nbconvert_exporter": "python",
   "pygments_lexer": "ipython3",
   "version": "3.6.5"
  }
 },
 "nbformat": 4,
 "nbformat_minor": 2
}
