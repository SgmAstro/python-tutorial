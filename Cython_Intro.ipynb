{
 "cells": [
  {
   "cell_type": "markdown",
   "metadata": {},
   "source": [
    "Now that you have some experience with Python in a scientific context, let us move to a new but very closely related programming language: Cython. Cython is a relatively recent language (2007) that incorporates Python and C. Why bother though? The main reason is the issue of speed. As you may remember, one of the major disadvantages to Python is that it is relatively slow. Why is this?\n",
    "\n",
    "Python is a dynamically typed language, which means that types are checked only as the code is running. For example:"
   ]
  },
  {
   "cell_type": "code",
   "execution_count": 13,
   "metadata": {},
   "outputs": [
    {
     "name": "stdout",
     "output_type": "stream",
     "text": [
      "Hello World\n"
     ]
    }
   ],
   "source": [
    "def func1():\n",
    "    x = True\n",
    "    y = 'string'\n",
    "    return x+y\n",
    "\n",
    "print('Hello World')"
   ]
  },
  {
   "cell_type": "markdown",
   "metadata": {},
   "source": [
    "The function func1() above is clearly nonsense: you can't add a boolean and a string. However, it isn't called, so the code still runs. This is because the function wasn't checked when the code was interpreted. If you add func1() to line 5, you'll find that you get an error when running the code because the bad function was called."
   ]
  },
  {
   "cell_type": "markdown",
   "metadata": {},
   "source": [
    "C is different. It is a statically typed language, which means everything is checked first when the code is compiled, and then the code is run. If the above code were written in C (and you can test this yourself), then the code wouldn't run."
   ]
  },
  {
   "cell_type": "markdown",
   "metadata": {},
   "source": [
    "There are a number of technicalites with this, and one of them is that Python is an interpreted language, while C is a compiled language. This makes Python easier to program with than C, but at the cost of speed."
   ]
  },
  {
   "cell_type": "markdown",
   "metadata": {},
   "source": [
    "Cython is a very powerful language, combining the ease of Python with the capabilities of C. For that reason, it is common to see it used in scientific projects with heavy computation, such as plasma physics or cosmology. Before diving into Python, I would recommend that you are well-acquainted with Python, you have a firm grasp of basic computer science (particularly with regards to how programming languages work), and you should know the basics of C.\n",
    "\n",
    "With that, let us begin!"
   ]
  },
  {
   "cell_type": "code",
   "execution_count": 14,
   "metadata": {},
   "outputs": [
    {
     "name": "stdout",
     "output_type": "stream",
     "text": [
      "The Cython extension is already loaded. To reload it, use:\n",
      "  %reload_ext Cython\n"
     ]
    }
   ],
   "source": [
    "%load_ext Cython"
   ]
  },
  {
   "cell_type": "markdown",
   "metadata": {},
   "source": [
    "To call cython, use the following command below:"
   ]
  },
  {
   "cell_type": "code",
   "execution_count": 4,
   "metadata": {},
   "outputs": [
    {
     "name": "stderr",
     "output_type": "stream",
     "text": [
      "UsageError: %%cython is a cell magic, but the cell body is empty.\n"
     ]
    }
   ],
   "source": [
    "%%cython"
   ]
  },
  {
   "cell_type": "code",
   "execution_count": 7,
   "metadata": {},
   "outputs": [],
   "source": [
    "%%cython\n",
    "\n",
    "'''\n",
    "A standard piece of Python code.\n",
    "(As a brief aside, note that all standard Python\n",
    "code works in Cython)\n",
    "'''\n",
    "\n",
    "def f(n):\n",
    "    sigma = 0\n",
    "    for i in range(n):\n",
    "        sigma += i\n",
    "        return sigma\n",
    "    \n",
    "'''\n",
    "The same code, rewritten in Cython!\n",
    "'''\n",
    "cpdef g(int n):\n",
    "    cdef long sigma = 0\n",
    "    cdef int i\n",
    "    for i in range(n):\n",
    "        sigma += i\n",
    "    return sigma"
   ]
  },
  {
   "cell_type": "code",
   "execution_count": 8,
   "metadata": {},
   "outputs": [
    {
     "name": "stdout",
     "output_type": "stream",
     "text": [
      "273 ns ± 3.52 ns per loop (mean ± std. dev. of 7 runs, 1000000 loops each)\n"
     ]
    }
   ],
   "source": [
    "%timeit f(1000000)"
   ]
  },
  {
   "cell_type": "code",
   "execution_count": 16,
   "metadata": {},
   "outputs": [
    {
     "name": "stdout",
     "output_type": "stream",
     "text": [
      "246 µs ± 2.82 µs per loop (mean ± std. dev. of 7 runs, 1000 loops each)\n"
     ]
    }
   ],
   "source": [
    "%timeit g(1000000)"
   ]
  },
  {
   "cell_type": "markdown",
   "metadata": {},
   "source": [
    "Look at how much quicker the for loop ran using Cython compared to Python! Cython is clearly a very powerful tool if used correctly, and we shall proceed to study its use."
   ]
  },
  {
   "cell_type": "code",
   "execution_count": null,
   "metadata": {},
   "outputs": [],
   "source": []
  }
 ],
 "metadata": {
  "kernelspec": {
   "display_name": "Python 3",
   "language": "python",
   "name": "python3"
  },
  "language_info": {
   "codemirror_mode": {
    "name": "ipython",
    "version": 3
   },
   "file_extension": ".py",
   "mimetype": "text/x-python",
   "name": "python",
   "nbconvert_exporter": "python",
   "pygments_lexer": "ipython3",
   "version": "3.6.5"
  }
 },
 "nbformat": 4,
 "nbformat_minor": 2
}
